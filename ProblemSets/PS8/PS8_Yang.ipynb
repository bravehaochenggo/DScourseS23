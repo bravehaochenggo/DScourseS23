{
 "cells": [
  {
   "cell_type": "code",
   "execution_count": 1,
   "id": "af74e792",
   "metadata": {},
   "outputs": [],
   "source": [
    "import numpy as np\n",
    "import pandas as pd\n",
    "import datetime as dt\n",
    "from dateutil.relativedelta import *\n",
    "from pandas.tseries.offsets import *\n",
    "from sklearn.linear_model import LinearRegression\n",
    "import statsmodels.api as sm\n",
    "import matplotlib.pyplot as plt"
   ]
  },
  {
   "cell_type": "code",
   "execution_count": 2,
   "id": "29fdfd67",
   "metadata": {},
   "outputs": [],
   "source": [
    "np.random.seed(100)\n",
    "\n",
    "N = 100000\n",
    "K = 10"
   ]
  },
  {
   "cell_type": "code",
   "execution_count": 3,
   "id": "e79a6d95",
   "metadata": {},
   "outputs": [],
   "source": [
    "# Create X matrix with first column of 1's\n",
    "X = np.ones((N, K))\n",
    "X[:, 1:] = np.random.normal(size=(N, K-1))\n"
   ]
  },
  {
   "cell_type": "code",
   "execution_count": 4,
   "id": "7c2cbfe1",
   "metadata": {},
   "outputs": [],
   "source": [
    "# Create epsilon vector\n",
    "theta = 0.5\n",
    "eps = np.random.normal(loc=0, scale=theta, size=N)"
   ]
  },
  {
   "cell_type": "code",
   "execution_count": 5,
   "id": "84dbdedd",
   "metadata": {},
   "outputs": [],
   "source": [
    "# Create beta vector\n",
    "beta = np.array([1.5, -1, -0.25, 0.75, 3.5, -2, 0.5, 1, 1.25, 2])"
   ]
  },
  {
   "cell_type": "code",
   "execution_count": 6,
   "id": "88c52189",
   "metadata": {},
   "outputs": [
    {
     "data": {
      "text/plain": [
       "array([ 1.5 , -1.  , -0.25,  0.75,  3.5 , -2.  ,  0.5 ,  1.  ,  1.25,\n",
       "        2.  ])"
      ]
     },
     "execution_count": 6,
     "metadata": {},
     "output_type": "execute_result"
    }
   ],
   "source": [
    "beta"
   ]
  },
  {
   "cell_type": "code",
   "execution_count": 7,
   "id": "26b17852",
   "metadata": {},
   "outputs": [],
   "source": [
    "# Generate Y\n",
    "Y = np.dot(X, beta) + eps"
   ]
  },
  {
   "cell_type": "code",
   "execution_count": 8,
   "id": "11687231",
   "metadata": {},
   "outputs": [
    {
     "data": {
      "text/plain": [
       "array([-0.10518834, -0.95094796, 11.9669812 , ..., -4.95785556,\n",
       "        0.1160833 ,  8.93515158])"
      ]
     },
     "execution_count": 8,
     "metadata": {},
     "output_type": "execute_result"
    }
   ],
   "source": [
    "Y"
   ]
  },
  {
   "cell_type": "code",
   "execution_count": 9,
   "id": "4405bbc9",
   "metadata": {},
   "outputs": [
    {
     "name": "stdout",
     "output_type": "stream",
     "text": [
      "Number of Y values generated: 100000\n"
     ]
    }
   ],
   "source": [
    "print(\"Number of Y values generated:\", len(Y))"
   ]
  },
  {
   "cell_type": "code",
   "execution_count": null,
   "id": "7e2416ea",
   "metadata": {},
   "outputs": [],
   "source": []
  },
  {
   "cell_type": "markdown",
   "id": "3d644cf5",
   "metadata": {},
   "source": [
    "***Question 5***"
   ]
  },
  {
   "cell_type": "code",
   "execution_count": 10,
   "id": "4e8e0d68",
   "metadata": {},
   "outputs": [],
   "source": [
    "beta_ols = np.linalg.inv(X.T @ X) @ X.T @ Y"
   ]
  },
  {
   "cell_type": "code",
   "execution_count": 11,
   "id": "b2329d36",
   "metadata": {},
   "outputs": [
    {
     "name": "stdout",
     "output_type": "stream",
     "text": [
      "OLS estimate of beta: [ 1.4993469  -0.99961478 -0.24905115  0.75044753  3.49885683 -1.99920583\n",
      "  0.49949759  0.99948925  1.24934953  2.00358688]\n",
      "True value of beta: [ 1.5  -1.   -0.25  0.75  3.5  -2.    0.5   1.    1.25  2.  ]\n"
     ]
    }
   ],
   "source": [
    "print(\"OLS estimate of beta:\", beta_ols)\n",
    "print(\"True value of beta:\", beta)"
   ]
  },
  {
   "cell_type": "markdown",
   "id": "3edc7d31",
   "metadata": {},
   "source": [
    "***The OLS estimated beta is clearly close to the true beta. The OLS estimate is near to the true value of beta because we generated the data using the true beta and a normally distributed error term, which makes this predictable.***"
   ]
  },
  {
   "cell_type": "markdown",
   "id": "754e9747",
   "metadata": {},
   "source": [
    "***Question 6***"
   ]
  },
  {
   "cell_type": "code",
   "execution_count": 12,
   "id": "a4e43635",
   "metadata": {},
   "outputs": [],
   "source": [
    "beta2 = np.zeros(K)\n",
    "learning_rate = 0.0000003\n",
    "num_iterations = 10000\n",
    "\n",
    "for i in range(num_iterations):\n",
    "    grad = 2 * X.T @ (X @ beta2 - Y)\n",
    "    beta2 = beta2 - learning_rate * grad\n",
    "\n",
    "beta_ols_gd = beta2"
   ]
  },
  {
   "cell_type": "code",
   "execution_count": 13,
   "id": "92bf72bc",
   "metadata": {},
   "outputs": [
    {
     "name": "stdout",
     "output_type": "stream",
     "text": [
      "OLS estimate of beta using gradient descent: [ 1.4993469  -0.99961478 -0.24905115  0.75044753  3.49885683 -1.99920583\n",
      "  0.49949759  0.99948925  1.24934953  2.00358688]\n",
      "True value of beta: [ 1.5  -1.   -0.25  0.75  3.5  -2.    0.5   1.    1.25  2.  ]\n"
     ]
    }
   ],
   "source": [
    "print(\"OLS estimate of beta using gradient descent:\", beta_ols_gd)\n",
    "print(\"True value of beta:\", beta)"
   ]
  },
  {
   "cell_type": "markdown",
   "id": "e87fadcf",
   "metadata": {},
   "source": [
    "The estimated beta is very close to the true beta as expected "
   ]
  },
  {
   "cell_type": "markdown",
   "id": "b86093d9",
   "metadata": {},
   "source": [
    "***Question 7***"
   ]
  },
  {
   "cell_type": "markdown",
   "id": "ca4f6acc",
   "metadata": {},
   "source": [
    "7.1 L-BFGS algorithm"
   ]
  },
  {
   "cell_type": "code",
   "execution_count": 17,
   "id": "2f499e7a",
   "metadata": {},
   "outputs": [
    {
     "name": "stdout",
     "output_type": "stream",
     "text": [
      "Requirement already satisfied: pip in d:\\anaconda\\lib\\site-packages (21.2.4)\n",
      "Collecting pip\n",
      "  Downloading pip-23.0.1-py3-none-any.whl (2.1 MB)\n",
      "Installing collected packages: pip\n",
      "  Attempting uninstall: pip\n",
      "    Found existing installation: pip 21.2.4\n",
      "    Uninstalling pip-21.2.4:\n",
      "      Successfully uninstalled pip-21.2.4\n",
      "Successfully installed pip-23.0.1\n",
      "Note: you may need to restart the kernel to use updated packages.\n"
     ]
    }
   ],
   "source": [
    "pip install --upgrade pip"
   ]
  },
  {
   "cell_type": "code",
   "execution_count": 20,
   "id": "d8e19250",
   "metadata": {},
   "outputs": [],
   "source": [
    "from scipy.optimize import minimize"
   ]
  },
  {
   "cell_type": "markdown",
   "id": "80acf4ec",
   "metadata": {},
   "source": [
    "L-BFGS algorithm"
   ]
  },
  {
   "cell_type": "code",
   "execution_count": 21,
   "id": "cb3585c5",
   "metadata": {},
   "outputs": [
    {
     "name": "stdout",
     "output_type": "stream",
     "text": [
      "OLS estimate of beta using L-BFGS algorithm: [ 1.49934689 -0.99961479 -0.24905115  0.75044753  3.49885684 -1.99920583\n",
      "  0.49949758  0.99948925  1.24934953  2.00358687]\n",
      "True value of beta: [ 1.5  -1.   -0.25  0.75  3.5  -2.    0.5   1.    1.25  2.  ]\n"
     ]
    }
   ],
   "source": [
    "# Generate data\n",
    "np.random.seed(100)\n",
    "N = 100000\n",
    "K = 10\n",
    "X = np.hstack((np.ones((N, 1)), np.random.normal(size=(N, K-1))))\n",
    "eps = np.random.normal(scale=0.5, size=(N,))\n",
    "beta = np.array([1.5, -1, -0.25, 0.75, 3.5, -2, 0.5, 1, 1.25, 2])\n",
    "Y = X.dot(beta) + eps\n",
    "\n",
    "# Define objective function for OLS\n",
    "def ols_objective(beta, X, Y):\n",
    "    return np.sum((Y - X.dot(beta))**2)\n",
    "\n",
    "# Compute OLS estimate using L-BFGS algorithm\n",
    "result = minimize(ols_objective, x0=np.zeros((K,)), args=(X, Y), method='L-BFGS-B')\n",
    "beta_ols_lbfgs = result.x\n",
    "\n",
    "print(\"OLS estimate of beta using L-BFGS algorithm:\", beta_ols_lbfgs)\n",
    "print(\"True value of beta:\", beta)"
   ]
  },
  {
   "cell_type": "markdown",
   "id": "7ad05ead",
   "metadata": {},
   "source": [
    "The estimated beta is still close to the true beta"
   ]
  },
  {
   "cell_type": "markdown",
   "id": "e778e0f0",
   "metadata": {},
   "source": [
    "Nelder-Mead algorithm"
   ]
  },
  {
   "cell_type": "code",
   "execution_count": 24,
   "id": "153f8a94",
   "metadata": {},
   "outputs": [
    {
     "name": "stdout",
     "output_type": "stream",
     "text": [
      "OLS estimate of beta using Nelder-Mead algorithm: [ 0.29685302 -1.36832676 -0.26489158  0.6431911   2.67246097 -2.74934738\n",
      " -0.29587007 -0.58667521  0.18026162  1.29778914]\n",
      "True value of beta: [ 1.5  -1.   -0.25  0.75  3.5  -2.    0.5   1.    1.25  2.  ]\n"
     ]
    }
   ],
   "source": [
    "np.random.seed(100)\n",
    "\n",
    "# Generate data\n",
    "np.random.seed(100)\n",
    "N = 100000\n",
    "K = 10\n",
    "X = np.hstack((np.ones((N, 1)), np.random.normal(size=(N, K-1))))\n",
    "eps = np.random.normal(scale=0.5, size=(N,))\n",
    "beta = np.array([1.5, -1, -0.25, 0.75, 3.5, -2, 0.5, 1, 1.25, 2])\n",
    "Y = X.dot(beta) + eps\n",
    "\n",
    "# Define objective function for OLS\n",
    "def ols_objective(beta, X, Y):\n",
    "    return np.sum((Y - X.dot(beta))**2)\n",
    "\n",
    "# Compute OLS estimate using Nelder-Mead algorithm\n",
    "result = minimize(ols_objective, x0=np.zeros((K,)), args=(X, Y), method='Nelder-Mead')\n",
    "beta_ols_nm = result.x\n",
    "\n",
    "print(\"OLS estimate of beta using Nelder-Mead algorithm:\", beta_ols_nm)\n",
    "print(\"True value of beta:\", beta)"
   ]
  },
  {
   "cell_type": "markdown",
   "id": "f7b6621e",
   "metadata": {},
   "source": [
    "the estimated beta is not close to the true beta if I use Nelder-Mead model\n"
   ]
  },
  {
   "cell_type": "markdown",
   "id": "3a92d591",
   "metadata": {},
   "source": [
    "Since the results are not close to true beta, I use alternative code to verify my conclusion.\n",
    "As expected, the results under new code are still differ."
   ]
  },
  {
   "cell_type": "code",
   "execution_count": 26,
   "id": "3cbdb384",
   "metadata": {},
   "outputs": [
    {
     "name": "stdout",
     "output_type": "stream",
     "text": [
      "[ 0.52888865 -1.09310326 -1.17841095  0.83322654  2.53818819 -2.65941512\n",
      " -0.17564945 -0.72566705  0.85948201  1.11166011]\n"
     ]
    }
   ],
   "source": [
    "\n",
    "np.random.seed(100)\n",
    "\n",
    "# Generate the data\n",
    "N = 10000  # Reduced from 100000\n",
    "K = 10\n",
    "X = np.hstack((np.ones((N,1)), np.random.normal(size=(N,K-1)).astype(np.float32)))  # Converted to float32\n",
    "eps = np.random.normal(scale=0.5, size=(N,1)).astype(np.float32)  # Converted to float32\n",
    "beta = np.array([1.5, -1, -0.25, 0.75, 3.5, -2, 0.5, 1, 1.25, 2])\n",
    "Y = X @ beta + eps\n",
    "\n",
    "# Define the objective function\n",
    "def obj_func(beta, X, Y):\n",
    "    return np.sum((Y - X @ beta)**2)\n",
    "\n",
    "# Define the initial guess for beta\n",
    "beta0 = np.zeros(K)\n",
    "\n",
    "# Minimize the objective function using the Nelder-Mead algorithm\n",
    "result = minimize(obj_func, beta0, args=(X, Y), method='Nelder-Mead')\n",
    "\n",
    "# Print the OLS estimate of beta\n",
    "print(result.x)"
   ]
  },
  {
   "cell_type": "markdown",
   "id": "deabbbb1",
   "metadata": {},
   "source": [
    "***Question 8***"
   ]
  },
  {
   "cell_type": "code",
   "execution_count": 27,
   "id": "3efdfdfa",
   "metadata": {},
   "outputs": [
    {
     "name": "stdout",
     "output_type": "stream",
     "text": [
      "beta_MLE_LBFGS:  [ 1.49906348 -0.9990671  -0.24941517  0.74900827  3.49915603 -1.99837208\n",
      "  0.49921659  0.99771906  1.25202844  1.99769417]\n"
     ]
    },
    {
     "name": "stderr",
     "output_type": "stream",
     "text": [
      "D:\\anaconda\\lib\\site-packages\\scipy\\optimize\\_minimize.py:541: RuntimeWarning: Method L-BFGS-B cannot handle constraints.\n",
      "  warn('Method %s cannot handle constraints.' % method,\n"
     ]
    }
   ],
   "source": [
    "np.random.seed(100)\n",
    "\n",
    "N = 100000\n",
    "K = 10\n",
    "\n",
    "# Generate the data\n",
    "X = np.random.normal(size=(N, K))\n",
    "X[:, 0] = 1\n",
    "eps = np.random.normal(scale=0.5, size=N)\n",
    "beta = np.array([1.5, -1, -0.25, 0.75, 3.5, -2, 0.5, 1, 1.25, 2])\n",
    "Y = X.dot(beta) + eps\n",
    "\n",
    "# Define the log-likelihood function\n",
    "def log_likelihood(beta, X, Y, theta):\n",
    "    n = len(Y)\n",
    "    return -0.5 * n * np.log(2 * np.pi * theta**2) - 0.5 * np.sum((Y - X.dot(beta))**2) / theta**2\n",
    "\n",
    "# Define the negative log-likelihood function\n",
    "def neg_log_likelihood(beta, X, Y, theta):\n",
    "    return -log_likelihood(beta, X, Y, theta)\n",
    "\n",
    "# Set the initial guess for beta\n",
    "beta_init = np.zeros(K)\n",
    "\n",
    "# Set the value of theta\n",
    "theta = 0.5\n",
    "\n",
    "# Set the bounds for beta\n",
    "bounds = [(None, None)] * K\n",
    "\n",
    "# Set the constraints\n",
    "cons = {'type': 'eq', 'fun': lambda x: sum(x)}\n",
    "\n",
    "# Use nlopt's L-BFGS algorithm to minimize the negative log-likelihood function\n",
    "result = minimize(neg_log_likelihood, beta_init, args=(X, Y, theta), method='L-BFGS-B', bounds=bounds, constraints=cons)\n",
    "\n",
    "# Print the results\n",
    "print('beta_MLE_LBFGS: ', result.x)"
   ]
  },
  {
   "cell_type": "markdown",
   "id": "0bd7c2e4",
   "metadata": {},
   "source": [
    "***Question 9***"
   ]
  },
  {
   "cell_type": "code",
   "execution_count": 29,
   "id": "ba48e69f",
   "metadata": {},
   "outputs": [
    {
     "name": "stdout",
     "output_type": "stream",
     "text": [
      "Collecting modelsummary\n",
      "  Downloading modelsummary-1.1.7.tar.gz (11 kB)\n",
      "  Preparing metadata (setup.py): started\n",
      "  Preparing metadata (setup.py): finished with status 'done'\n",
      "Requirement already satisfied: tqdm in d:\\anaconda\\lib\\site-packages (from modelsummary) (4.64.0)\n",
      "Collecting torch\n",
      "  Downloading torch-2.0.0-cp39-cp39-win_amd64.whl (172.3 MB)\n",
      "     ------------------------------------- 172.3/172.3 MB 10.2 MB/s eta 0:00:00\n",
      "Requirement already satisfied: numpy in d:\\anaconda\\lib\\site-packages (from modelsummary) (1.21.5)\n",
      "Requirement already satisfied: jinja2 in d:\\anaconda\\lib\\site-packages (from torch->modelsummary) (2.11.3)\n",
      "Requirement already satisfied: networkx in d:\\anaconda\\lib\\site-packages (from torch->modelsummary) (2.7.1)\n",
      "Requirement already satisfied: sympy in d:\\anaconda\\lib\\site-packages (from torch->modelsummary) (1.10.1)\n",
      "Requirement already satisfied: typing-extensions in d:\\anaconda\\lib\\site-packages (from torch->modelsummary) (4.1.1)\n",
      "Requirement already satisfied: filelock in d:\\anaconda\\lib\\site-packages (from torch->modelsummary) (3.6.0)\n",
      "Requirement already satisfied: colorama in d:\\anaconda\\lib\\site-packages (from tqdm->modelsummary) (0.4.4)\n",
      "Requirement already satisfied: MarkupSafe>=0.23 in d:\\anaconda\\lib\\site-packages (from jinja2->torch->modelsummary) (2.0.1)\n",
      "Requirement already satisfied: mpmath>=0.19 in d:\\anaconda\\lib\\site-packages (from sympy->torch->modelsummary) (1.2.1)\n",
      "Building wheels for collected packages: modelsummary\n",
      "  Building wheel for modelsummary (setup.py): started\n",
      "  Building wheel for modelsummary (setup.py): finished with status 'done'\n",
      "  Created wheel for modelsummary: filename=modelsummary-1.1.7-py3-none-any.whl size=6940 sha256=3538432fc33e5fd963a430d3911bfa7e270c2ff00c1f983ed52e465993684a23\n",
      "  Stored in directory: c:\\users\\asus\\appdata\\local\\pip\\cache\\wheels\\99\\ef\\e7\\fb988046ad5e5e2db3498501c6a8cc05e5fc21a820c8c95b17\n",
      "Successfully built modelsummary\n",
      "Installing collected packages: torch, modelsummary\n",
      "Successfully installed modelsummary-1.1.7 torch-2.0.0\n",
      "Note: you may need to restart the kernel to use updated packages.\n"
     ]
    }
   ],
   "source": [
    "pip install modelsummary"
   ]
  },
  {
   "cell_type": "code",
   "execution_count": 30,
   "id": "cca421b0",
   "metadata": {},
   "outputs": [
    {
     "name": "stdout",
     "output_type": "stream",
     "text": [
      "                            OLS Regression Results                            \n",
      "==============================================================================\n",
      "Dep. Variable:                      y   R-squared:                       0.990\n",
      "Model:                            OLS   Adj. R-squared:                  0.990\n",
      "Method:                 Least Squares   F-statistic:                 1.093e+06\n",
      "Date:                Mon, 03 Apr 2023   Prob (F-statistic):               0.00\n",
      "Time:                        19:52:17   Log-Likelihood:                -72395.\n",
      "No. Observations:              100000   AIC:                         1.448e+05\n",
      "Df Residuals:                   99990   BIC:                         1.449e+05\n",
      "Df Model:                           9                                         \n",
      "Covariance Type:            nonrobust                                         \n",
      "==============================================================================\n",
      "                 coef    std err          t      P>|t|      [0.025      0.975]\n",
      "------------------------------------------------------------------------------\n",
      "const          1.4991      0.002    949.723      0.000       1.496       1.502\n",
      "x1            -0.9991      0.002   -630.612      0.000      -1.002      -0.996\n",
      "x2            -0.2494      0.002   -157.549      0.000      -0.253      -0.246\n",
      "x3             0.7490      0.002    473.941      0.000       0.746       0.752\n",
      "x4             3.4992      0.002   2212.524      0.000       3.496       3.502\n",
      "x5            -1.9984      0.002  -1267.379      0.000      -2.001      -1.995\n",
      "x6             0.4992      0.002    315.238      0.000       0.496       0.502\n",
      "x7             0.9977      0.002    631.124      0.000       0.995       1.001\n",
      "x8             1.2520      0.002    791.964      0.000       1.249       1.255\n",
      "x9             1.9977      0.002   1264.029      0.000       1.995       2.001\n",
      "==============================================================================\n",
      "Omnibus:                        1.330   Durbin-Watson:                   2.001\n",
      "Prob(Omnibus):                  0.514   Jarque-Bera (JB):                1.321\n",
      "Skew:                          -0.008   Prob(JB):                        0.517\n",
      "Kurtosis:                       3.006   Cond. No.                         1.02\n",
      "==============================================================================\n",
      "\n",
      "Notes:\n",
      "[1] Standard Errors assume that the covariance matrix of the errors is correctly specified.\n"
     ]
    },
    {
     "ename": "AttributeError",
     "evalue": "module 'modelsummary' has no attribute 'texreg'",
     "output_type": "error",
     "traceback": [
      "\u001b[1;31m---------------------------------------------------------------------------\u001b[0m",
      "\u001b[1;31mAttributeError\u001b[0m                            Traceback (most recent call last)",
      "Input \u001b[1;32mIn [30]\u001b[0m, in \u001b[0;36m<cell line: 22>\u001b[1;34m()\u001b[0m\n\u001b[0;32m     19\u001b[0m \u001b[38;5;28mprint\u001b[39m(ols_results\u001b[38;5;241m.\u001b[39msummary())\n\u001b[0;32m     21\u001b[0m \u001b[38;5;66;03m# export summary output to tex file\u001b[39;00m\n\u001b[1;32m---> 22\u001b[0m \u001b[43mmodelsummary\u001b[49m\u001b[38;5;241;43m.\u001b[39;49m\u001b[43mtexreg\u001b[49m\u001b[38;5;241m.\u001b[39mtabular(ols_results, filename\u001b[38;5;241m=\u001b[39m\u001b[38;5;124m\"\u001b[39m\u001b[38;5;124mols_results.tex\u001b[39m\u001b[38;5;124m\"\u001b[39m)\n",
      "\u001b[1;31mAttributeError\u001b[0m: module 'modelsummary' has no attribute 'texreg'"
     ]
    }
   ],
   "source": [
    "import statsmodels.api as sm\n",
    "import modelsummary\n",
    "\n",
    "# create data matrices\n",
    "np.random.seed(100)\n",
    "N = 100000\n",
    "K = 10\n",
    "X = np.random.normal(size=(N, K))\n",
    "X[:, 0] = 1\n",
    "eps = np.random.normal(loc=0, scale=0.5, size=(N,))\n",
    "beta = np.array([1.5, -1, -0.25, 0.75, 3.5, -2, 0.5, 1, 1.25, 2])\n",
    "Y = X @ beta + eps\n",
    "\n",
    "# fit OLS model using lm()\n",
    "ols_model = sm.OLS(Y, X)\n",
    "ols_results = ols_model.fit()\n",
    "\n",
    "# print summary output to console\n",
    "print(ols_results.summary())\n",
    "\n",
    "modelsummary.texreg.tabular(ols_results, filename=\"ols_results.tex\")"
   ]
  },
  {
   "cell_type": "code",
   "execution_count": null,
   "id": "52235568",
   "metadata": {},
   "outputs": [],
   "source": []
  }
 ],
 "metadata": {
  "kernelspec": {
   "display_name": "Python 3 (ipykernel)",
   "language": "python",
   "name": "python3"
  },
  "language_info": {
   "codemirror_mode": {
    "name": "ipython",
    "version": 3
   },
   "file_extension": ".py",
   "mimetype": "text/x-python",
   "name": "python",
   "nbconvert_exporter": "python",
   "pygments_lexer": "ipython3",
   "version": "3.9.12"
  }
 },
 "nbformat": 4,
 "nbformat_minor": 5
}
